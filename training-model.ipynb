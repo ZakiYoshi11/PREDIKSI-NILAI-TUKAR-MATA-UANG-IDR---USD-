{
 "cells": [
  {
   "cell_type": "markdown",
   "id": "c42c67ad",
   "metadata": {},
   "source": [
    "# Prediksi Nilai Tukar Rupia Terhadap Dolar"
   ]
  },
  {
   "cell_type": "code",
   "execution_count": 43,
   "id": "2a866501",
   "metadata": {},
   "outputs": [],
   "source": [
    "import pandas as pd\n",
    "import numpy as np\n",
    "\n",
    "# Preprocessing data\n",
    "from sklearn.preprocessing import MinMaxScaler\n",
    "\n",
    "# Model selection\n",
    "import tensorflow as tf\n",
    "from tensorflow.keras.models import Sequential\n",
    "from tensorflow.keras.layers import LSTM, Dense, Dropout\n",
    "from keras.callbacks import EarlyStopping\n",
    "from sklearn.metrics import mean_squared_error, mean_absolute_error, r2_score\n",
    "\n",
    "# evaluasi dan visualisasi\n",
    "import matplotlib.pyplot as plt\n",
    "\n"
   ]
  },
  {
   "cell_type": "code",
   "execution_count": 2,
   "id": "ca071bb6",
   "metadata": {},
   "outputs": [],
   "source": [
    "# menimport data dasi file csv\n",
    "data = pd.read_csv('Data/USD_IDR Historical Data (2).csv')"
   ]
  },
  {
   "cell_type": "code",
   "execution_count": 3,
   "id": "d5201ed9",
   "metadata": {},
   "outputs": [
    {
     "data": {
      "text/html": [
       "<div>\n",
       "<style scoped>\n",
       "    .dataframe tbody tr th:only-of-type {\n",
       "        vertical-align: middle;\n",
       "    }\n",
       "\n",
       "    .dataframe tbody tr th {\n",
       "        vertical-align: top;\n",
       "    }\n",
       "\n",
       "    .dataframe thead th {\n",
       "        text-align: right;\n",
       "    }\n",
       "</style>\n",
       "<table border=\"1\" class=\"dataframe\">\n",
       "  <thead>\n",
       "    <tr style=\"text-align: right;\">\n",
       "      <th></th>\n",
       "      <th>Date</th>\n",
       "      <th>Price</th>\n",
       "      <th>Open</th>\n",
       "      <th>High</th>\n",
       "      <th>Low</th>\n",
       "      <th>Vol.</th>\n",
       "      <th>Change %</th>\n",
       "    </tr>\n",
       "  </thead>\n",
       "  <tbody>\n",
       "    <tr>\n",
       "      <th>0</th>\n",
       "      <td>05/28/2025</td>\n",
       "      <td>16,309.0</td>\n",
       "      <td>16,270.0</td>\n",
       "      <td>16,315.9</td>\n",
       "      <td>16,259.4</td>\n",
       "      <td>NaN</td>\n",
       "      <td>0.31%</td>\n",
       "    </tr>\n",
       "    <tr>\n",
       "      <th>1</th>\n",
       "      <td>05/27/2025</td>\n",
       "      <td>16,259.4</td>\n",
       "      <td>16,270.0</td>\n",
       "      <td>16,281.0</td>\n",
       "      <td>16,225.0</td>\n",
       "      <td>NaN</td>\n",
       "      <td>0.12%</td>\n",
       "    </tr>\n",
       "    <tr>\n",
       "      <th>2</th>\n",
       "      <td>05/26/2025</td>\n",
       "      <td>16,240.0</td>\n",
       "      <td>16,185.0</td>\n",
       "      <td>16,245.0</td>\n",
       "      <td>16,155.0</td>\n",
       "      <td>NaN</td>\n",
       "      <td>0.21%</td>\n",
       "    </tr>\n",
       "    <tr>\n",
       "      <th>3</th>\n",
       "      <td>05/25/2025</td>\n",
       "      <td>16,206.0</td>\n",
       "      <td>16,215.0</td>\n",
       "      <td>16,218.0</td>\n",
       "      <td>16,206.0</td>\n",
       "      <td>NaN</td>\n",
       "      <td>-0.07%</td>\n",
       "    </tr>\n",
       "    <tr>\n",
       "      <th>4</th>\n",
       "      <td>05/23/2025</td>\n",
       "      <td>16,217.5</td>\n",
       "      <td>16,320.0</td>\n",
       "      <td>16,330.5</td>\n",
       "      <td>16,215.0</td>\n",
       "      <td>NaN</td>\n",
       "      <td>-0.69%</td>\n",
       "    </tr>\n",
       "  </tbody>\n",
       "</table>\n",
       "</div>"
      ],
      "text/plain": [
       "         Date     Price      Open      High       Low Vol. Change %\n",
       "0  05/28/2025  16,309.0  16,270.0  16,315.9  16,259.4  NaN    0.31%\n",
       "1  05/27/2025  16,259.4  16,270.0  16,281.0  16,225.0  NaN    0.12%\n",
       "2  05/26/2025  16,240.0  16,185.0  16,245.0  16,155.0  NaN    0.21%\n",
       "3  05/25/2025  16,206.0  16,215.0  16,218.0  16,206.0  NaN   -0.07%\n",
       "4  05/23/2025  16,217.5  16,320.0  16,330.5  16,215.0  NaN   -0.69%"
      ]
     },
     "execution_count": 3,
     "metadata": {},
     "output_type": "execute_result"
    }
   ],
   "source": [
    "# menampilkan 5 data teratas\n",
    "data.head()"
   ]
  },
  {
   "cell_type": "markdown",
   "id": "1097d6c8",
   "metadata": {},
   "source": [
    " **Deskripsi Tiap Kolom**\n",
    "\n",
    "Data merupakan nilai tukar mata uang rupiah ke dollar dimana data diambil dari https://www.investing.com/currencies/usd-idr-historical-data. Untuk rentan waktu yang diambil yaitu selama 3 tahun, mulai dari tahun 2023-2025 pertanggal 28 mei.\n",
    " - open: harga pembukaan dihari tersebut\n",
    " - hight: harga tertinggi dihari tersebut\n",
    " - low: harga atau nilai tukar mata uang terendah pada hari tersebut\n",
    " - price: price closeatau nilai tukar final mata uang pada hari tersebut (sebagai kolom target)\n",
    " - change %: persentase perubahan nilai tukar mata uang berdasarkan hari sebelumnya"
   ]
  },
  {
   "cell_type": "code",
   "execution_count": 4,
   "id": "5e82a50b",
   "metadata": {},
   "outputs": [
    {
     "data": {
      "text/plain": [
       "(1016, 7)"
      ]
     },
     "execution_count": 4,
     "metadata": {},
     "output_type": "execute_result"
    }
   ],
   "source": [
    "data.shape"
   ]
  },
  {
   "cell_type": "code",
   "execution_count": 5,
   "id": "de7f172a",
   "metadata": {},
   "outputs": [
    {
     "data": {
      "text/plain": [
       "Date          0\n",
       "Price         0\n",
       "Open          0\n",
       "High          0\n",
       "Low           0\n",
       "Vol.        611\n",
       "Change %      0\n",
       "dtype: int64"
      ]
     },
     "execution_count": 5,
     "metadata": {},
     "output_type": "execute_result"
    }
   ],
   "source": [
    "# melihat kolom yang terdapat nilai null atau nan\n",
    "data.isna().sum()"
   ]
  },
  {
   "cell_type": "markdown",
   "id": "ac6ae541",
   "metadata": {},
   "source": [
    "**Noted**\n",
    "dari total keseluruhan baris data adalah 524, pada kolom Vol seperti kita lihat bahwa keseluruan dari kolom bernilai nan atau null\n"
   ]
  },
  {
   "cell_type": "markdown",
   "id": "e847a971",
   "metadata": {},
   "source": [
    "# Preprocessing Data"
   ]
  },
  {
   "cell_type": "code",
   "execution_count": 6,
   "id": "13108909",
   "metadata": {},
   "outputs": [],
   "source": [
    "# menghapus kolom yang tidak diperlukan\n",
    "data.drop(columns=['Vol.'], inplace=True)"
   ]
  },
  {
   "cell_type": "markdown",
   "id": "af9a5583",
   "metadata": {},
   "source": [
    "**Noted**\n",
    "\n",
    "melakukan proses penghapusan kolom yang tidak diperlukan berdasarkan informasi yang telah didapatkan seblumnya, dimana kolom vol secarea keseluruhan bernilai kosong."
   ]
  },
  {
   "cell_type": "code",
   "execution_count": 7,
   "id": "a8c323e4",
   "metadata": {},
   "outputs": [],
   "source": [
    "# megubah tanggal menjadi datetime\n",
    "data['Date'] = pd.to_datetime(data['Date'], format='%m/%d/%Y')"
   ]
  },
  {
   "cell_type": "code",
   "execution_count": 8,
   "id": "106208e6",
   "metadata": {},
   "outputs": [],
   "source": [
    "# mengurutkan DataFrame berdasarkan tanggal dari yang paling lama ke yang terbaru\n",
    "df = data.sort_values(by='Date', ascending=True)"
   ]
  },
  {
   "cell_type": "code",
   "execution_count": 9,
   "id": "e337d32b",
   "metadata": {},
   "outputs": [],
   "source": [
    "# memisahkan kolom Date menjadi tahun, bulan, dan hari\n",
    "df['Year'] = data['Date'].dt.year\n",
    "df['Month'] = data['Date'].dt.month\n",
    "df['Day'] = data['Date'].dt.day"
   ]
  },
  {
   "cell_type": "code",
   "execution_count": 10,
   "id": "575b76ff",
   "metadata": {},
   "outputs": [],
   "source": [
    "# mengahaous kolom Date\n",
    "df.drop(columns=['Date'], inplace=True)"
   ]
  },
  {
   "cell_type": "markdown",
   "id": "c30feb28",
   "metadata": {},
   "source": [
    "**Noted**\n",
    "\n",
    "pada langkah ini yaitu mengubah data date menjadi datetime menggunakan library pandas, dan mengurutkan data dari terlama hingga terbaru, proses selanjutnya yaitu memisahkan antara data hari, bulan, dan tahun menjadi sebuah kolom baru. Langkah terakhir yang dilakuka adalah menghapus kolom Date, alasannya yaitu karena data tanggal telah dipisah menjadi data hari, bulan, dan tahun"
   ]
  },
  {
   "cell_type": "code",
   "execution_count": 11,
   "id": "b0523c2e",
   "metadata": {},
   "outputs": [
    {
     "data": {
      "text/html": [
       "<div>\n",
       "<style scoped>\n",
       "    .dataframe tbody tr th:only-of-type {\n",
       "        vertical-align: middle;\n",
       "    }\n",
       "\n",
       "    .dataframe tbody tr th {\n",
       "        vertical-align: top;\n",
       "    }\n",
       "\n",
       "    .dataframe thead th {\n",
       "        text-align: right;\n",
       "    }\n",
       "</style>\n",
       "<table border=\"1\" class=\"dataframe\">\n",
       "  <thead>\n",
       "    <tr style=\"text-align: right;\">\n",
       "      <th></th>\n",
       "      <th>Price</th>\n",
       "      <th>Open</th>\n",
       "      <th>High</th>\n",
       "      <th>Low</th>\n",
       "      <th>Change %</th>\n",
       "      <th>Year</th>\n",
       "      <th>Month</th>\n",
       "      <th>Day</th>\n",
       "    </tr>\n",
       "  </thead>\n",
       "  <tbody>\n",
       "    <tr>\n",
       "      <th>1015</th>\n",
       "      <td>14,280.0</td>\n",
       "      <td>14,305.0</td>\n",
       "      <td>14,322.5</td>\n",
       "      <td>14,285.0</td>\n",
       "      <td>-0.04%</td>\n",
       "      <td>2021</td>\n",
       "      <td>5</td>\n",
       "      <td>28</td>\n",
       "    </tr>\n",
       "    <tr>\n",
       "      <th>1014</th>\n",
       "      <td>14,275.0</td>\n",
       "      <td>14,295.0</td>\n",
       "      <td>14,312.0</td>\n",
       "      <td>14,280.0</td>\n",
       "      <td>-0.04%</td>\n",
       "      <td>2021</td>\n",
       "      <td>5</td>\n",
       "      <td>31</td>\n",
       "    </tr>\n",
       "    <tr>\n",
       "      <th>1013</th>\n",
       "      <td>14,275.0</td>\n",
       "      <td>14,265.0</td>\n",
       "      <td>14,292.5</td>\n",
       "      <td>14,247.5</td>\n",
       "      <td>0.00%</td>\n",
       "      <td>2021</td>\n",
       "      <td>6</td>\n",
       "      <td>2</td>\n",
       "    </tr>\n",
       "    <tr>\n",
       "      <th>1012</th>\n",
       "      <td>14,280.0</td>\n",
       "      <td>14,275.0</td>\n",
       "      <td>14,312.5</td>\n",
       "      <td>14,265.0</td>\n",
       "      <td>0.04%</td>\n",
       "      <td>2021</td>\n",
       "      <td>6</td>\n",
       "      <td>3</td>\n",
       "    </tr>\n",
       "    <tr>\n",
       "      <th>1011</th>\n",
       "      <td>14,290.0</td>\n",
       "      <td>14,295.0</td>\n",
       "      <td>14,325.0</td>\n",
       "      <td>14,295.0</td>\n",
       "      <td>0.07%</td>\n",
       "      <td>2021</td>\n",
       "      <td>6</td>\n",
       "      <td>4</td>\n",
       "    </tr>\n",
       "  </tbody>\n",
       "</table>\n",
       "</div>"
      ],
      "text/plain": [
       "         Price      Open      High       Low Change %  Year  Month  Day\n",
       "1015  14,280.0  14,305.0  14,322.5  14,285.0   -0.04%  2021      5   28\n",
       "1014  14,275.0  14,295.0  14,312.0  14,280.0   -0.04%  2021      5   31\n",
       "1013  14,275.0  14,265.0  14,292.5  14,247.5    0.00%  2021      6    2\n",
       "1012  14,280.0  14,275.0  14,312.5  14,265.0    0.04%  2021      6    3\n",
       "1011  14,290.0  14,295.0  14,325.0  14,295.0    0.07%  2021      6    4"
      ]
     },
     "execution_count": 11,
     "metadata": {},
     "output_type": "execute_result"
    }
   ],
   "source": [
    "df.head()"
   ]
  },
  {
   "cell_type": "code",
   "execution_count": 12,
   "id": "13de5e2c",
   "metadata": {},
   "outputs": [
    {
     "name": "stdout",
     "output_type": "stream",
     "text": [
      "<class 'pandas.core.frame.DataFrame'>\n",
      "Index: 1016 entries, 1015 to 0\n",
      "Data columns (total 8 columns):\n",
      " #   Column    Non-Null Count  Dtype \n",
      "---  ------    --------------  ----- \n",
      " 0   Price     1016 non-null   object\n",
      " 1   Open      1016 non-null   object\n",
      " 2   High      1016 non-null   object\n",
      " 3   Low       1016 non-null   object\n",
      " 4   Change %  1016 non-null   object\n",
      " 5   Year      1016 non-null   int32 \n",
      " 6   Month     1016 non-null   int32 \n",
      " 7   Day       1016 non-null   int32 \n",
      "dtypes: int32(3), object(5)\n",
      "memory usage: 59.5+ KB\n"
     ]
    }
   ],
   "source": [
    "df.info()"
   ]
  },
  {
   "cell_type": "code",
   "execution_count": 13,
   "id": "860e7fb8",
   "metadata": {},
   "outputs": [],
   "source": [
    "# menghapus simbol yang tidak diperlukan dan mengubah tipe data kolom\n",
    "df['Change %']= df['Change %'].str.replace('%', '').astype(float)\n",
    "df['Price']= df['Price'].str.replace(',', '').astype(float)\n",
    "df['Open']= df['Open'].str.replace(',', '').astype(float)\n",
    "df['High']= df['High'].str.replace(',', '').astype(float)\n",
    "df['Low']= df['Low'].str.replace(',', '').astype(float)\n"
   ]
  },
  {
   "cell_type": "code",
   "execution_count": 14,
   "id": "d51d67ed",
   "metadata": {},
   "outputs": [
    {
     "name": "stdout",
     "output_type": "stream",
     "text": [
      "<class 'pandas.core.frame.DataFrame'>\n",
      "Index: 1016 entries, 1015 to 0\n",
      "Data columns (total 8 columns):\n",
      " #   Column    Non-Null Count  Dtype  \n",
      "---  ------    --------------  -----  \n",
      " 0   Price     1016 non-null   float64\n",
      " 1   Open      1016 non-null   float64\n",
      " 2   High      1016 non-null   float64\n",
      " 3   Low       1016 non-null   float64\n",
      " 4   Change %  1016 non-null   float64\n",
      " 5   Year      1016 non-null   int32  \n",
      " 6   Month     1016 non-null   int32  \n",
      " 7   Day       1016 non-null   int32  \n",
      "dtypes: float64(5), int32(3)\n",
      "memory usage: 59.5 KB\n"
     ]
    }
   ],
   "source": [
    "df.info()"
   ]
  },
  {
   "cell_type": "markdown",
   "id": "24df908f",
   "metadata": {},
   "source": [
    "**Noted**\n",
    "\n",
    "pada pemrosesan data ini tahap yang dilakukandalah menhapus simbol-simbol yang tidak dibutuhkan nantinya, dan mengubah setiap tipe data menjadi float. karena seperti terlihat bahwa tipe data sebelumnya yaitu object, setelah dilakukan pemrosesan data maka diubah menjadi float. Tujuannya yaitu agar dapat digunakan nantinya dalam proses pelatihan model"
   ]
  },
  {
   "cell_type": "code",
   "execution_count": 15,
   "id": "a0a3af51",
   "metadata": {},
   "outputs": [],
   "source": [
    "# Proses Normalisasi Data\n",
    "scalar = MinMaxScaler(feature_range=(0, 1))\n",
    "\n",
    "scalar_featur = scalar.fit_transform(df[['Price', 'Open', 'High', 'Low', 'Change %']])"
   ]
  },
  {
   "cell_type": "markdown",
   "id": "21679e2e",
   "metadata": {},
   "source": [
    "**NOted**\n",
    "\n",
    "melakukan prose normalisasi dengan menggunakan minmascaler, tujuan normalisasi ini tnetunya agara setiap fitur nantinya memiliki scala yang sama dimana dalam rentang 0-1. penyeragaman scala pada setiap gitur itu penting untuk dilakukan karena disini saya menggunakan model LSTM seperti yang diketahui LSTM sangat sensistif terhadap skala data, selain itu dapat meningkatkan stabilitas pelatihan dan kecepatan konvergensi model."
   ]
  },
  {
   "cell_type": "code",
   "execution_count": 16,
   "id": "229b5647",
   "metadata": {},
   "outputs": [],
   "source": [
    "# mengubah data dalam bentuk sequence\n",
    "def sequence_data(data, seq_length):\n",
    "    X=[]\n",
    "    y=[]\n",
    "\n",
    "    for i in range(len(data)-seq_length):\n",
    "        X.append(data[i:i+seq_length])\n",
    "        y.append(data[i+seq_length])\n",
    "        \n",
    "    return np.array(X), np.array(y)"
   ]
  },
  {
   "cell_type": "code",
   "execution_count": 17,
   "id": "0e646668",
   "metadata": {},
   "outputs": [],
   "source": [
    "X, y = sequence_data(scalar_featur, 30)"
   ]
  },
  {
   "cell_type": "markdown",
   "id": "c8c8ddbf",
   "metadata": {},
   "source": [
    " **Noted**\n",
    "\n",
    "\n",
    " seperti yang terlihat proses ini bertujuan untuk mengubah data kedalam bentuk sequence, hal ini sangat penting dilakukan karena model LSTM bekerja sesuai dengan urutan data yang ada jadi ketika urutan tidak sesuai maka dapat mempengaruhi kinerja dari  model LSTM. sementara itu juga terdapat window atau seq_lengt hal ini berfungsi agar model dapat belajar dari urutan hari ke hari. Dengan menerapkan hal berikut diharapkan model nantinya dapat memprediksi nilai tukar mata uang IDR to USD keesokan harinya berdasarkan 30 hari terakhir."
   ]
  },
  {
   "cell_type": "code",
   "execution_count": 18,
   "id": "100aac73",
   "metadata": {},
   "outputs": [],
   "source": [
    "# melakukan proses spliting data\n",
    "train_size = int(len(X) * 0.8)\n",
    "X_train, X_test = X[:train_size], X[train_size:]\n",
    "y_train, y_test = y[:train_size], y[train_size:]"
   ]
  },
  {
   "cell_type": "markdown",
   "id": "b6b1de6f",
   "metadata": {},
   "source": [
    "# Implementasi & Training Model"
   ]
  },
  {
   "cell_type": "code",
   "execution_count": 31,
   "id": "0eb4407e",
   "metadata": {},
   "outputs": [],
   "source": [
    "# Membangun model\n",
    "model = Sequential([\n",
    "    LSTM(32, return_sequences=True, input_shape=(30, 5)),  #layer 1\n",
    "    Dropout(0.2),\n",
    "    LSTM(16),                  #layer 2                                                         \n",
    "    Dense(1)                                               #layer 3\n",
    "])"
   ]
  },
  {
   "cell_type": "code",
   "execution_count": 32,
   "id": "4f47aa3b",
   "metadata": {},
   "outputs": [],
   "source": [
    "# Kompilasi model\n",
    "model.compile(optimizer='adam', loss='mean_squared_error')"
   ]
  },
  {
   "cell_type": "markdown",
   "id": "d0ad368f",
   "metadata": {},
   "source": [
    "**Noted**\n",
    "\n",
    "- input_shape = berisi 30 hari sebelumnya berdasarkan 5 fitur dalam satu harinya\n",
    "- LSTM layer berjumlah 2 bertujuan untuk belajar data dan pola temporal\n",
    "- dopout layer bertujuan untuk mencegah overfitting dengan membuat neuron secara acak saat training\n",
    "- dense atau neuron berjumlah 1 bertujuan untuk melakukan proses prediksi nilai tunggal yaitu price"
   ]
  },
  {
   "cell_type": "code",
   "execution_count": 38,
   "id": "5f67fc17",
   "metadata": {},
   "outputs": [
    {
     "name": "stdout",
     "output_type": "stream",
     "text": [
      "Epoch 1/100\n",
      "\u001b[1m40/40\u001b[0m \u001b[32m━━━━━━━━━━━━━━━━━━━━\u001b[0m\u001b[37m\u001b[0m \u001b[1m1s\u001b[0m 14ms/step - loss: 0.0111 - val_loss: 0.0219\n",
      "Epoch 2/100\n",
      "\u001b[1m40/40\u001b[0m \u001b[32m━━━━━━━━━━━━━━━━━━━━\u001b[0m\u001b[37m\u001b[0m \u001b[1m1s\u001b[0m 12ms/step - loss: 0.0107 - val_loss: 0.0219\n",
      "Epoch 3/100\n",
      "\u001b[1m40/40\u001b[0m \u001b[32m━━━━━━━━━━━━━━━━━━━━\u001b[0m\u001b[37m\u001b[0m \u001b[1m0s\u001b[0m 12ms/step - loss: 0.0104 - val_loss: 0.0219\n",
      "Epoch 4/100\n",
      "\u001b[1m40/40\u001b[0m \u001b[32m━━━━━━━━━━━━━━━━━━━━\u001b[0m\u001b[37m\u001b[0m \u001b[1m0s\u001b[0m 12ms/step - loss: 0.0107 - val_loss: 0.0219\n",
      "Epoch 5/100\n",
      "\u001b[1m40/40\u001b[0m \u001b[32m━━━━━━━━━━━━━━━━━━━━\u001b[0m\u001b[37m\u001b[0m \u001b[1m1s\u001b[0m 13ms/step - loss: 0.0101 - val_loss: 0.0223\n",
      "Epoch 6/100\n",
      "\u001b[1m40/40\u001b[0m \u001b[32m━━━━━━━━━━━━━━━━━━━━\u001b[0m\u001b[37m\u001b[0m \u001b[1m1s\u001b[0m 16ms/step - loss: 0.0115 - val_loss: 0.0219\n",
      "Epoch 7/100\n",
      "\u001b[1m40/40\u001b[0m \u001b[32m━━━━━━━━━━━━━━━━━━━━\u001b[0m\u001b[37m\u001b[0m \u001b[1m1s\u001b[0m 15ms/step - loss: 0.0109 - val_loss: 0.0219\n",
      "Epoch 8/100\n",
      "\u001b[1m40/40\u001b[0m \u001b[32m━━━━━━━━━━━━━━━━━━━━\u001b[0m\u001b[37m\u001b[0m \u001b[1m1s\u001b[0m 16ms/step - loss: 0.0109 - val_loss: 0.0221\n",
      "Epoch 9/100\n",
      "\u001b[1m40/40\u001b[0m \u001b[32m━━━━━━━━━━━━━━━━━━━━\u001b[0m\u001b[37m\u001b[0m \u001b[1m1s\u001b[0m 17ms/step - loss: 0.0114 - val_loss: 0.0220\n",
      "Epoch 10/100\n",
      "\u001b[1m40/40\u001b[0m \u001b[32m━━━━━━━━━━━━━━━━━━━━\u001b[0m\u001b[37m\u001b[0m \u001b[1m1s\u001b[0m 14ms/step - loss: 0.0103 - val_loss: 0.0228\n",
      "Epoch 11/100\n",
      "\u001b[1m40/40\u001b[0m \u001b[32m━━━━━━━━━━━━━━━━━━━━\u001b[0m\u001b[37m\u001b[0m \u001b[1m1s\u001b[0m 17ms/step - loss: 0.0102 - val_loss: 0.0226\n",
      "Epoch 12/100\n",
      "\u001b[1m40/40\u001b[0m \u001b[32m━━━━━━━━━━━━━━━━━━━━\u001b[0m\u001b[37m\u001b[0m \u001b[1m1s\u001b[0m 17ms/step - loss: 0.0108 - val_loss: 0.0223\n"
     ]
    }
   ],
   "source": [
    "\n",
    "\n",
    "early_stop = EarlyStopping(monitor='val_loss', patience=5, restore_best_weights=True)\n",
    "\n",
    "history = model.fit(\n",
    "    X_train, y_train, \n",
    "    epochs=100, \n",
    "    batch_size=20,\n",
    "    validation_data=(X_test, y_test), \n",
    "    callbacks=[early_stop],\n",
    "    verbose=1\n",
    "\n",
    "    )\n"
   ]
  },
  {
   "cell_type": "markdown",
   "id": "2cbcd39a",
   "metadata": {},
   "source": [
    "**Noted**\n",
    "\n",
    "seperti yang terlihat dengan menggunakan epoch 50 nilai loss mengalami penurunan yang cukup besar,walaupun sempat terjadi kenaikan sedikit dimana nilai akhir loss 0.0108. Untuk jilai Val_loss 0.0223, dari hail yang didapatkan model mengalami overfitting sedikit. dimana model memberikan hasil yang bagus saat pelatihan akan tetapi mengalami penurunan saat melakukan uji coba model"
   ]
  },
  {
   "cell_type": "markdown",
   "id": "6e485b04",
   "metadata": {},
   "source": [
    "#   Evaluuasi Model dan visualisasi model"
   ]
  },
  {
   "cell_type": "code",
   "execution_count": 48,
   "id": "95f4618f",
   "metadata": {},
   "outputs": [
    {
     "name": "stdout",
     "output_type": "stream",
     "text": [
      "\u001b[1m7/7\u001b[0m \u001b[32m━━━━━━━━━━━━━━━━━━━━\u001b[0m\u001b[37m\u001b[0m \u001b[1m0s\u001b[0m 8ms/step \n",
      "MSE  : 0.0068\n",
      "RMSE : 0.0826\n",
      "MAE  : 0.0719\n",
      "R²   : 0.7424\n"
     ]
    }
   ],
   "source": [
    "# Prediksi data uji\n",
    "y_pred = model.predict(X_test)\n",
    "\n",
    "# Mengambil kolom Price saja dari y_test (kolom pertama)\n",
    "y_test_price = y_test[:, 0]\n",
    "\n",
    "# Hitung metrik\n",
    "mse = mean_squared_error(y_test_price, y_pred)\n",
    "rmse = np.sqrt(mse)\n",
    "mae = mean_absolute_error(y_test_price, y_pred)\n",
    "r2 = r2_score(y_test_price, y_pred)\n",
    "\n",
    "print(f\"MSE  : {mse:.4f}\")\n",
    "print(f\"RMSE : {rmse:.4f}\")\n",
    "print(f\"MAE  : {mae:.4f}\")\n",
    "print(f\"R²   : {r2:.4f}\")"
   ]
  },
  {
   "cell_type": "markdown",
   "id": "e7c15abf",
   "metadata": {},
   "source": [
    "**Noted**\n",
    "\n",
    "proses yang telah dilakukan sebelumnya merupakan proses evluasi model, dimana tujuan dari evaluasi model adalah untuk melihat seberapa baik model dalam bekerja. Berdasarkan hasil yang ada model menunjukkan peforma yang cukup baik, seperti yang terlihat tingkat error relatif kecil pada nilai MSE dan RMSE dan R^2 memiliki nilai diatas 0.7 artinya model mampu menjelaskan sebagian besar variansi yang ada didalam target."
   ]
  },
  {
   "cell_type": "code",
   "execution_count": null,
   "id": "31e0a107",
   "metadata": {},
   "outputs": [
    {
     "data": {
      "image/png": "[encoded data removed]",
      "text/plain": [
       "<Figure size 1000x500 with 1 Axes>"
      ]
     },
     "metadata": {},
     "output_type": "display_data"
    }
   ],
   "source": [
    "# visualisasi hasil prediksi vs training data\n",
    "plt.figure(figsize=(10, 5))\n",
    "plt.plot(history.history['loss'], label='Training Loss')\n",
    "plt.plot(history.history['val_loss'], label='Validation Loss')\n",
    "plt.title('Learning Curve (MSE)')\n",
    "plt.xlabel('Epoch')\n",
    "plt.ylabel('Loss')\n",
    "plt.legend()\n",
    "plt.grid(True)\n",
    "plt.show()"
   ]
  },
  {
   "cell_type": "markdown",
   "id": "95919714",
   "metadata": {},
   "source": [
    "**Noted**\n",
    "\n",
    "berdasarkan hasil visualisasi dapat disimpulkan bahwa training loss cendrung strabil, sehingga tidak terjadi ovefitting karena seperti yang kita lihat antara nilai dari training loss dan validation loss sangat stabil. tidak terjadi juga under fitting walaupun training loss rendah akan tetapi nilai dari validation loss tidak terpaut terlalu jauh. "
   ]
  },
  {
   "cell_type": "code",
   "execution_count": 49,
   "id": "0caf38c1",
   "metadata": {},
   "outputs": [
    {
     "data": {
      "image/png": "[encoded data removed]",
      "text/plain": [
       "<Figure size 1200x600 with 1 Axes>"
      ]
     },
     "metadata": {},
     "output_type": "display_data"
    }
   ],
   "source": [
    "plt.figure(figsize=(12, 6))\n",
    "plt.plot(y_test_price, label='Actual Price', color='blue')\n",
    "plt.plot(y_pred, label='Predicted Price', color='orange')\n",
    "plt.title('Actual vs Predicted USD/IDR')\n",
    "plt.xlabel('Sample')\n",
    "plt.ylabel('Price (Normalized)')\n",
    "plt.legend()\n",
    "plt.grid(True)\n",
    "plt.show()"
   ]
  },
  {
   "cell_type": "markdown",
   "id": "17ec053a",
   "metadata": {},
   "source": [
    "**Noted**\n",
    "\n",
    "berdasarkan hasil visualisasi yang telah dibuat, dapat disimpulkan bahwa model berhasil memahami arah dari pergrakan price, tapi masih mengalami kekurangan dalam besaran yang ada. Hal ini menunjukkan bahwa model mengalami sedikit lagging dalam merespon perubahan yang tajam."
   ]
  },
  {
   "cell_type": "markdown",
   "id": "e536b833",
   "metadata": {},
   "source": [
    "**Noted**\n",
    "\n",
    "rekomendasi yang dapat dilakukan untuk kedepannya yaitu:\n",
    "- kemungkinan model belum terlalu cukup dalam, saran yang diberikan bisa menambah lapisan pada model, atau bisa juga mencoba model lain.\n",
    "- jumlah data masih terbatas, bisa menambahkan data lebih banyak dan lebih kompleks lagi mulai dari fitur fitur yang digunakan. sehingga nantinya dapat membantu dalam meningkatkan akurasi model.\n",
    "- seprti yang telah dijelaskan sebelumnya dapat menambahan fitur seperti suku bunga, inflasi, dll.\n",
    "\n",
    "jadi dapat disimpulkan perbaikan yang disarankan terhadap pembuatan traininf model ini yaitu bisa menambahkan fitur, tuning hyperparameter, mencoba menggunakan model seperti GRU/BI-LSTM"
   ]
  }
 ],
 "metadata": {
  "kernelspec": {
   "display_name": "Python 3",
   "language": "python",
   "name": "python3"
  },
  "language_info": {
   "codemirror_mode": {
    "name": "ipython",
    "version": 3
   },
   "file_extension": ".py",
   "mimetype": "text/x-python",
   "name": "python",
   "nbconvert_exporter": "python",
   "pygments_lexer": "ipython3",
   "version": "3.11.9"
  }
 },
 "nbformat": 4,
 "nbformat_minor": 5
}
